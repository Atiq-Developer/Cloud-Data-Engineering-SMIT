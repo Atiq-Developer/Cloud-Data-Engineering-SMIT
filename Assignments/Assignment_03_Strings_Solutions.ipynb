{
 "cells": [
  {
   "cell_type": "markdown",
   "id": "c2a9d40d",
   "metadata": {},
   "source": [
    "1. Write a program that accepts a string from user. Your program should count and display number of vowels in that string."
   ]
  },
  {
   "cell_type": "code",
   "execution_count": 2,
   "id": "f7bb7ff2",
   "metadata": {},
   "outputs": [
    {
     "name": "stdin",
     "output_type": "stream",
     "text": [
      "Enter a string:  Atiq\n"
     ]
    },
    {
     "name": "stdout",
     "output_type": "stream",
     "text": [
      "Number of vowels in the string: 2\n"
     ]
    }
   ],
   "source": [
    "text = input(\"Enter a string: \")\n",
    "count = 0\n",
    "text = text.lower()\n",
    "for char in text:\n",
    "    if char in \"aeiou\":\n",
    "        count += 1\n",
    "print(\"Number of vowels in the string:\", count)\n"
   ]
  },
  {
   "cell_type": "markdown",
   "id": "f09e29f5",
   "metadata": {},
   "source": [
    "2. Write a program that reads a string from keyboard and display:\n",
    "   * The number of uppercase letters in the string\n",
    "   * The number of lowercase letters in the string\n",
    "   * The number of digits in the string\n",
    "   * The number of whitespace characters in the string"
   ]
  },
  {
   "cell_type": "code",
   "execution_count": 3,
   "id": "94dd0ed9",
   "metadata": {},
   "outputs": [
    {
     "name": "stdin",
     "output_type": "stream",
     "text": [
      "Enter a string:  Atiq Developer\n"
     ]
    },
    {
     "name": "stdout",
     "output_type": "stream",
     "text": [
      "Uppercase letters: 2\n",
      "Lowercase letters: 11\n",
      "Digits: 0\n",
      "Whitespace characters: 1\n"
     ]
    }
   ],
   "source": [
    "text = input(\"Enter a string: \")\n",
    "\n",
    "uppercase = 0\n",
    "lowercase = 0\n",
    "digits = 0\n",
    "whitespace = 0\n",
    "\n",
    "for char in text:\n",
    "    if char.isupper():\n",
    "        uppercase += 1\n",
    "    elif char.islower():\n",
    "        lowercase += 1\n",
    "    elif char.isdigit():\n",
    "        digits += 1\n",
    "    elif char.isspace():\n",
    "        whitespace += 1\n",
    "\n",
    "print(\"Uppercase letters:\", uppercase)\n",
    "print(\"Lowercase letters:\", lowercase)\n",
    "print(\"Digits:\", digits)\n",
    "print(\"Whitespace characters:\", whitespace)\n"
   ]
  },
  {
   "cell_type": "markdown",
   "id": "6d661a0c",
   "metadata": {},
   "source": [
    "3. Write a Python program that accepts a string from user. Your program should create and display a new string where the first and last characters have been exchanged."
   ]
  },
  {
   "cell_type": "code",
   "execution_count": 4,
   "id": "e50064b0",
   "metadata": {},
   "outputs": [
    {
     "name": "stdin",
     "output_type": "stream",
     "text": [
      "Enter a string:  ww\n"
     ]
    },
    {
     "name": "stdout",
     "output_type": "stream",
     "text": [
      "New string after exchanging first and last characters: ww\n"
     ]
    }
   ],
   "source": [
    "text = input(\"Enter a string: \")\n",
    "\n",
    "if len(text) > 1:\n",
    "    new_string = text[-1] + text[1:-1] + text[0]\n",
    "else:\n",
    "    new_string = text\n",
    "\n",
    "print(\"New string after exchanging first and last characters:\", new_string)\n"
   ]
  },
  {
   "cell_type": "markdown",
   "id": "45760568",
   "metadata": {},
   "source": [
    "4. Write a Python program that accepts a string from user. Your program should create a new string in reverse of first string and display it."
   ]
  },
  {
   "cell_type": "code",
   "execution_count": 5,
   "id": "c289dfcc",
   "metadata": {},
   "outputs": [
    {
     "name": "stdin",
     "output_type": "stream",
     "text": [
      "Enter a string:  ww\n"
     ]
    },
    {
     "name": "stdout",
     "output_type": "stream",
     "text": [
      "Reversed string: ww\n"
     ]
    }
   ],
   "source": [
    "string_user = input(\"Enter a string: \")\n",
    "print(\"Reversed string:\", string_user[::-1])"
   ]
  },
  {
   "cell_type": "markdown",
   "id": "b86ae20a",
   "metadata": {},
   "source": [
    "5. Write a Python program that accepts a string from user. Your program should create a new string by shifting one position to left."
   ]
  },
  {
   "cell_type": "code",
   "execution_count": 6,
   "id": "2aa1f306",
   "metadata": {},
   "outputs": [
    {
     "name": "stdin",
     "output_type": "stream",
     "text": [
      "Enter a string:  334\n"
     ]
    },
    {
     "name": "stdout",
     "output_type": "stream",
     "text": [
      "Shifted string: 34A\n"
     ]
    }
   ],
   "source": [
    "old_string = input(\"Enter a string: \")\n",
    "new_string = old_string[1:] + s[0]\n",
    "print(\"Shifted string:\", new_string)"
   ]
  },
  {
   "cell_type": "markdown",
   "id": "e8fc5d1b",
   "metadata": {},
   "source": [
    "6. Write a program that asks the user to input his name and print its initials. Assuming that the user always types first name, middle name and last name and does not include any unnecessary spaces."
   ]
  },
  {
   "cell_type": "code",
   "execution_count": null,
   "id": "f85af16c",
   "metadata": {},
   "outputs": [],
   "source": [
    "name = input(\"Enter your full name (First Middle Last): \")\n",
    "initials = \"\"\n",
    "for i in range(len(name)):\n",
    "    if i == 0 or name[i-1] == \" \":\n",
    "        initials += name[i].upper() + \". \"\n",
    "print(\"Initials:\", initials.strip())"
   ]
  },
  {
   "cell_type": "markdown",
   "id": "e985d2c2",
   "metadata": {},
   "source": [
    "7. A palindrome is a string that reads the same backward as forward. Write a programs that determines whether the string is a palindrome."
   ]
  },
  {
   "cell_type": "code",
   "execution_count": null,
   "id": "780bc521",
   "metadata": {},
   "outputs": [],
   "source": [
    "s = input(\"Enter a string: \")\n",
    "if s == s[::-1]:\n",
    "    print(\"Palindrome\")\n",
    "else:\n",
    "    print(\"Not a Palindrome\")"
   ]
  },
  {
   "cell_type": "markdown",
   "id": "9003dc80",
   "metadata": {},
   "source": [
    "8. Write a program that display following output:\n",
    "SHIFT\n",
    "HIFTS\n",
    "IFTSH\n",
    "FTSHI\n",
    "TSHIF\n",
    "SHIFT"
   ]
  },
  {
   "cell_type": "code",
   "execution_count": null,
   "id": "1099be9e",
   "metadata": {},
   "outputs": [],
   "source": [
    "s = \"SHIFT\"\n",
    "for i in range(len(s)):\n",
    "    print(s[i:] + s[:i])"
   ]
  },
  {
   "cell_type": "markdown",
   "id": "9f3c0733",
   "metadata": {},
   "source": [
    "9. Write a program in python that accepts a string to setup a passwords. Your entered password must meet the following requirements:\n",
    "   * The password must be at least eight characters long.\n",
    "   * It must contain at least one uppercase letter.\n",
    "   * It must contain at least one lowercase letter.\n",
    "   * It must contain at least one numeric digit.\n",
    "   Your program should perform this validation."
   ]
  },
  {
   "cell_type": "code",
   "execution_count": null,
   "id": "2acfc82f",
   "metadata": {},
   "outputs": [],
   "source": [
    "password = input(\"Enter a password: \")\n",
    "if (len(password) >= 8 and \n",
    "    any(c.isupper() for c in password) and \n",
    "    any(c.islower() for c in password) and \n",
    "    any(c.isdigit() for c in password)):\n",
    "    print(\"Password is valid\")\n",
    "else:\n",
    "    print(\"Password is invalid\")"
   ]
  }
 ],
 "metadata": {
  "kernelspec": {
   "display_name": "Python 3 (ipykernel)",
   "language": "python",
   "name": "python3"
  },
  "language_info": {
   "codemirror_mode": {
    "name": "ipython",
    "version": 3
   },
   "file_extension": ".py",
   "mimetype": "text/x-python",
   "name": "python",
   "nbconvert_exporter": "python",
   "pygments_lexer": "ipython3",
   "version": "3.13.5"
  }
 },
 "nbformat": 4,
 "nbformat_minor": 5
}
