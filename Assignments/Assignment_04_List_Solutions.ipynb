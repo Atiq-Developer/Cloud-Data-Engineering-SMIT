{
 "cells": [
  {
   "cell_type": "markdown",
   "id": "b5fa0bfd",
   "metadata": {},
   "source": [
    "## Q1) Alternate Elements of a List\n",
    "**Question:** Write a program that accepts a list from user and print the alternate element of list.\n",
    "\n",
    "**Idea (Beginner-level):**  \n",
    "- \"Alternate elements\" means items at positions 0, 2, 4, ... (every other item).  \n",
    "- In Python, you can use list slicing `my_list[::2]` which means \"start at 0 and step by 2\".\n"
   ]
  },
  {
   "cell_type": "code",
   "execution_count": null,
   "id": "3378b048",
   "metadata": {},
   "outputs": [],
   "source": [
    "# --- Q1: Alternate elements of a list ---\n",
    "\n",
    "# Option A: Using input from user (uncomment to use interactively)\n",
    "# raw = input(\"Enter numbers separated by spaces: \")\n",
    "# my_list = [int(x) for x in raw.split()]\n",
    "\n",
    "# Option B: Use a sample list (easy to run in notebook)\n",
    "my_list = [10, 20, 30, 40, 50, 60]\n",
    "print(\"Original list:\", my_list)\n",
    "\n",
    "# Get alternate elements (index 0,2,4,...)\n",
    "alternate = my_list[::2]\n",
    "print(\"Alternate elements:\", alternate)\n"
   ]
  },
  {
   "cell_type": "markdown",
   "id": "51a063cb",
   "metadata": {},
   "source": [
    "## Q2) Reverse a List (Without `reverse()`)\n",
    "**Question:** Accept a list from user and reverse its content **without using** the built-in `reverse()` method.\n",
    "\n",
    "**Idea:**  \n",
    "We will build a **new list** by taking items from the end to the start using a simple loop (or slicing `[::-1]`). Here we show the loop way for learning.\n"
   ]
  },
  {
   "cell_type": "code",
   "execution_count": null,
   "id": "8a8a98f8",
   "metadata": {},
   "outputs": [],
   "source": [
    "# --- Q2: Reverse list without using reverse() ---\n",
    "\n",
    "# raw = input(\"Enter numbers separated by spaces: \")\n",
    "# my_list = [int(x) for x in raw.split()]\n",
    "\n",
    "my_list = [1, 2, 3, 4, 5]\n",
    "print(\"Original list:\", my_list)\n",
    "\n",
    "reversed_list = []\n",
    "for i in range(len(my_list)-1, -1, -1):\n",
    "    reversed_list.append(my_list[i])\n",
    "\n",
    "print(\"Reversed list:\", reversed_list)\n",
    "\n",
    "# (Note) Another simple way is: my_list[::-1]\n"
   ]
  },
  {
   "cell_type": "markdown",
   "id": "563211c5",
   "metadata": {},
   "source": [
    "## Q3) Largest Number (Without `max()`)\n",
    "**Question:** Find and display the largest number of a list **without** using the built-in `max()`.\n",
    "\n",
    "**Idea:**  \n",
    "- Assume the first element is the largest.  \n",
    "- Go through the list and update the largest if you find a bigger number.\n"
   ]
  },
  {
   "cell_type": "code",
   "execution_count": null,
   "id": "67062eab",
   "metadata": {},
   "outputs": [],
   "source": [
    "# --- Q3: Largest number without using max() ---\n",
    "\n",
    "# raw = input(\"Enter numbers separated by spaces: \")\n",
    "# nums = [int(x) for x in raw.split()]\n",
    "\n",
    "nums = [12, 7, 25, 3, 18]\n",
    "print(\"Numbers:\", nums)\n",
    "\n",
    "# Assume first number is largest\n",
    "largest = nums[0]\n",
    "for x in nums[1:]:\n",
    "    if x > largest:\n",
    "        largest = x\n",
    "\n",
    "print(\"Largest number is:\", largest)\n"
   ]
  },
  {
   "cell_type": "markdown",
   "id": "894bb58a",
   "metadata": {},
   "source": [
    "## Q4) Rotate List (Right by 1)\n",
    "**Question:** Rotate the list so that the element at the **last index moves to the first**, and every other element shifts one step to the right.\n",
    "\n",
    "**Idea:**  \n",
    "- For example: `[1,2,3,4]` becomes `[4,1,2,3]`.  \n",
    "- We'll build a **new list** using indexing.\n"
   ]
  },
  {
   "cell_type": "code",
   "execution_count": null,
   "id": "ae155a25",
   "metadata": {},
   "outputs": [],
   "source": [
    "# --- Q4: Rotate list right by 1 ---\n",
    "\n",
    "# raw = input(\"Enter numbers separated by spaces: \")\n",
    "# L = [int(x) for x in raw.split()]\n",
    "\n",
    "L = [1, 2, 3, 4, 5]\n",
    "print(\"Original:\", L)\n",
    "\n",
    "if len(L) > 0:\n",
    "    rotated = [L[-1]] + L[:-1]\n",
    "else:\n",
    "    rotated = []\n",
    "\n",
    "print(\"Rotated (right by 1):\", rotated)\n"
   ]
  },
  {
   "cell_type": "markdown",
   "id": "d8371835",
   "metadata": {},
   "source": [
    "## Q5) Delete a Given Word from a String\n",
    "**Question:** Input a string and ask user to delete a given word from the string.\n",
    "\n",
    "**Idea:**  \n",
    "- Split the sentence into words, remove matches of the word, then join back.  \n",
    "- This simple approach is **case-sensitive**. (You can also use lower() for case-insensitive.)\n"
   ]
  },
  {
   "cell_type": "code",
   "execution_count": null,
   "id": "35a55ca9",
   "metadata": {},
   "outputs": [],
   "source": [
    "# --- Q5: Delete a word from a string ---\n",
    "\n",
    "# sentence = input(\"Enter a sentence: \")\n",
    "# word_to_delete = input(\"Enter the word to delete: \")\n",
    "\n",
    "sentence = \"This is a simple simple example.\"\n",
    "word_to_delete = \"simple\"\n",
    "print(\"Original sentence:\", sentence)\n",
    "print(\"Word to delete:\", word_to_delete)\n",
    "\n",
    "words = sentence.split()\n",
    "result_words = [w for w in words if w != word_to_delete]\n",
    "result_sentence = \" \".join(result_words)\n",
    "\n",
    "print(\"Result:\", result_sentence)\n",
    "\n",
    "# Tip (case-insensitive):\n",
    "# result_words = [w for w in words if w.lower() != word_to_delete.lower()]\n"
   ]
  },
  {
   "cell_type": "markdown",
   "id": "0eb9e7b0",
   "metadata": {},
   "source": [
    "## Q6) Format a Date `mm/dd/yyyy` → `Month day, year`\n",
    "**Question:** Read a date in the form `mm/dd/yyyy` and print it like `March 12, 2021`.\n",
    "\n",
    "**Idea:**  \n",
    "- Split by `/` to get month, day, and year.  \n",
    "- Use a list of month names to convert number → month text.\n"
   ]
  },
  {
   "cell_type": "code",
   "execution_count": null,
   "id": "a801013c",
   "metadata": {},
   "outputs": [],
   "source": [
    "# --- Q6: Convert mm/dd/yyyy to 'Month day, year' ---\n",
    "\n",
    "# date_str = input(\"Enter date (mm/dd/yyyy): \")\n",
    "\n",
    "date_str = \"03/12/2021\"\n",
    "print(\"Input:\", date_str)\n",
    "\n",
    "parts = date_str.split(\"/\")\n",
    "mm = int(parts[0])\n",
    "dd = int(parts[1])\n",
    "yyyy = parts[2]\n",
    "\n",
    "months = [\"January\",\"February\",\"March\",\"April\",\"May\",\"June\",\n",
    "          \"July\",\"August\",\"September\",\"October\",\"November\",\"December\"]\n",
    "\n",
    "# Basic check\n",
    "if 1 <= mm <= 12:\n",
    "    month_name = months[mm-1]\n",
    "    print(f\"{month_name} {dd}, {yyyy}\")\n",
    "else:\n",
    "    print(\"Invalid month number!\")\n"
   ]
  },
  {
   "cell_type": "markdown",
   "id": "c14fe7ab",
   "metadata": {},
   "source": [
    "## Q7) Capitalize Each Word in a Sentence\n",
    "**Question:** Write a function that accepts a string and returns a new string with **each word capitalized**.\n",
    "\n",
    "**Idea:**  \n",
    "- For each word, use `word.capitalize()` and then join them back with spaces.\n"
   ]
  },
  {
   "cell_type": "code",
   "execution_count": null,
   "id": "b85ba0d8",
   "metadata": {},
   "outputs": [],
   "source": [
    "# --- Q7: Capitalize each word ---\n",
    "\n",
    "def capitalize_each_word(sentence):\n",
    "    words = sentence.split()\n",
    "    cap_words = [w.capitalize() for w in words]\n",
    "    return \" \".join(cap_words)\n",
    "\n",
    "# s = input(\"Enter a sentence: \")\n",
    "s = \"stop and smell the roses.\"\n",
    "print(\"Original:\", s)\n",
    "print(\"Capitalized:\", capitalize_each_word(s))\n"
   ]
  },
  {
   "cell_type": "markdown",
   "id": "0cab3254",
   "metadata": {},
   "source": [
    "## Q8) Sum of Each Row in an m × n Matrix\n",
    "**Question:** Find the sum of each row of a matrix.\n",
    "\n",
    "**Idea:**  \n",
    "- Represent a matrix as a list of lists.  \n",
    "- Use `sum(row)` for each row.\n"
   ]
  },
  {
   "cell_type": "code",
   "execution_count": null,
   "id": "1b7f9dd0",
   "metadata": {},
   "outputs": [],
   "source": [
    "# --- Q8: Sum of each row ---\n",
    "\n",
    "matrix = [\n",
    "    [5, 7, 20],   # Row 1 sum = 32\n",
    "    [11, 8, 12],  # Row 2 sum = 31\n",
    "    [20, 21, 22]  # Row 3 sum = 63\n",
    "]\n",
    "\n",
    "for i, row in enumerate(matrix, start=1):\n",
    "    print(f\"Sum of row {i} = {sum(row)}\")\n"
   ]
  },
  {
   "cell_type": "markdown",
   "id": "491566f9",
   "metadata": {},
   "source": [
    "## Q9) Add Two n × m Matrices\n",
    "**Question:** Add two matrices of the same size (element-wise).\n",
    "\n",
    "**Idea:**  \n",
    "- Both matrices must have the **same dimensions**.  \n",
    "- Add items with the same row and column positions.\n"
   ]
  },
  {
   "cell_type": "code",
   "execution_count": null,
   "id": "87d9fd82",
   "metadata": {},
   "outputs": [],
   "source": [
    "# --- Q9: Add two matrices ---\n",
    "\n",
    "A = [\n",
    "    [1, 2, 3],\n",
    "    [4, 5, 6]\n",
    "]\n",
    "\n",
    "B = [\n",
    "    [7,  8,  9],\n",
    "    [10, 11, 12]\n",
    "]\n",
    "\n",
    "# Check dimensions\n",
    "rows = len(A)\n",
    "cols = len(A[0])\n",
    "\n",
    "assert rows == len(B) and cols == len(B[0]), \"Matrices must have the same size\"\n",
    "\n",
    "C = []\n",
    "for i in range(rows):\n",
    "    row = []\n",
    "    for j in range(cols):\n",
    "        row.append(A[i][j] + B[i][j])\n",
    "    C.append(row)\n",
    "\n",
    "print(\"A + B =\")\n",
    "for row in C:\n",
    "    print(row)\n"
   ]
  },
  {
   "cell_type": "markdown",
   "id": "4196ffaa",
   "metadata": {},
   "source": [
    "## Q10) Multiply Two Matrices\n",
    "**Question:** Multiply two matrices (A × B).\n",
    "\n",
    "**Idea:**  \n",
    "- The number of columns of **A** must equal the number of rows of **B**.  \n",
    "- Use the standard triple-loop method for clarity.\n"
   ]
  },
  {
   "cell_type": "code",
   "execution_count": 1,
   "id": "a0796112",
   "metadata": {},
   "outputs": [
    {
     "name": "stdout",
     "output_type": "stream",
     "text": [
      "A x B =\n",
      "[58, 64]\n",
      "[139, 154]\n"
     ]
    }
   ],
   "source": [
    "# --- Q10: Multiply two matrices ---\n",
    "\n",
    "A = [\n",
    "    [1, 2, 3],\n",
    "    [4, 5, 6]\n",
    "]  # 2x3\n",
    "\n",
    "B = [\n",
    "    [7,  8],\n",
    "    [9, 10],\n",
    "    [11,12]\n",
    "]  # 3x2\n",
    "\n",
    "rows_A = len(A)\n",
    "cols_A = len(A[0])\n",
    "rows_B = len(B)\n",
    "cols_B = len(B[0])\n",
    "\n",
    "assert cols_A == rows_B, \"Number of columns in A must equal number of rows in B\"\n",
    "\n",
    "# Initialize result matrix with zeros: size rows_A x cols_B\n",
    "C = [[0 for _ in range(cols_B)] for _ in range(rows_A)]\n",
    "\n",
    "for i in range(rows_A):\n",
    "    for j in range(cols_B):\n",
    "        s = 0\n",
    "        for k in range(cols_A):  # or rows_B\n",
    "            s += A[i][k] * B[k][j]\n",
    "        C[i][j] = s\n",
    "\n",
    "print(\"A x B =\")\n",
    "for row in C:\n",
    "    print(row)\n"
   ]
  },
  {
   "cell_type": "code",
   "execution_count": null,
   "id": "730d9b5c-a6b0-4e61-99af-fe0247c5dde0",
   "metadata": {},
   "outputs": [],
   "source": []
  }
 ],
 "metadata": {
  "kernelspec": {
   "display_name": "Python 3 (ipykernel)",
   "language": "python",
   "name": "python3"
  },
  "language_info": {
   "codemirror_mode": {
    "name": "ipython",
    "version": 3
   },
   "file_extension": ".py",
   "mimetype": "text/x-python",
   "name": "python",
   "nbconvert_exporter": "python",
   "pygments_lexer": "ipython3",
   "version": "3.13.5"
  }
 },
 "nbformat": 4,
 "nbformat_minor": 5
}
