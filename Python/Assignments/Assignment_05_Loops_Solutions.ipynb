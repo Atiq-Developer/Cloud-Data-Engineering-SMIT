{
 "cells": [
  {
   "cell_type": "markdown",
   "id": "854f5774",
   "metadata": {},
   "source": [
    "1. Write a program to print first 10 natural numbers using while loop."
   ]
  },
  {
   "cell_type": "code",
   "execution_count": 1,
   "id": "e9836299",
   "metadata": {},
   "outputs": [
    {
     "name": "stdout",
     "output_type": "stream",
     "text": [
      "1\n",
      "2\n",
      "3\n",
      "4\n",
      "5\n",
      "6\n",
      "7\n",
      "8\n",
      "9\n",
      "10\n"
     ]
    }
   ],
   "source": [
    "i=1\n",
    "while i<=10:\n",
    "    print(i)\n",
    "    i+=1"
   ]
  },
  {
   "cell_type": "markdown",
   "id": "e2fd210e",
   "metadata": {},
   "source": [
    "2. Write a program to print the first 10 even numbers using a while loop."
   ]
  },
  {
   "cell_type": "code",
   "execution_count": 2,
   "id": "bbdd333f",
   "metadata": {},
   "outputs": [
    {
     "name": "stdout",
     "output_type": "stream",
     "text": [
      "2\n",
      "4\n",
      "6\n",
      "8\n",
      "10\n",
      "12\n",
      "14\n",
      "16\n",
      "18\n",
      "20\n"
     ]
    }
   ],
   "source": [
    "i=2\n",
    "while i<=20:\n",
    "    print(i)\n",
    "    i+=2"
   ]
  },
  {
   "cell_type": "markdown",
   "id": "05468e5c",
   "metadata": {},
   "source": [
    "3. Write a program to print the first 10 odd numbers using a while loop."
   ]
  },
  {
   "cell_type": "code",
   "execution_count": 3,
   "id": "dde94e4c",
   "metadata": {},
   "outputs": [
    {
     "name": "stdout",
     "output_type": "stream",
     "text": [
      "1\n",
      "3\n",
      "5\n",
      "7\n",
      "9\n",
      "11\n",
      "13\n",
      "15\n",
      "17\n",
      "19\n"
     ]
    }
   ],
   "source": [
    "i=1\n",
    "while i<=19:\n",
    "    print(i)\n",
    "    i+=2"
   ]
  },
  {
   "cell_type": "markdown",
   "id": "8561ab96",
   "metadata": {},
   "source": [
    "4. Write a program to print the first 10 natural numbers in reverse order using a while loop."
   ]
  },
  {
   "cell_type": "code",
   "execution_count": null,
   "id": "2cc85d4f",
   "metadata": {},
   "outputs": [],
   "source": [
    "i=10\n",
    "while i>=1:\n",
    "    print(i)\n",
    "    i-=1"
   ]
  },
  {
   "cell_type": "markdown",
   "id": "d2eb149f",
   "metadata": {},
   "source": [
    "5. Write a program to print the first 10 even numbers in reverse order using a while loop."
   ]
  },
  {
   "cell_type": "code",
   "execution_count": null,
   "id": "ffe6245d",
   "metadata": {},
   "outputs": [],
   "source": [
    "i=20\n",
    "while i>=2:\n",
    "    print(i)\n",
    "    i-=2"
   ]
  },
  {
   "cell_type": "markdown",
   "id": "e345a8a4",
   "metadata": {},
   "source": [
    "6. Write a program to print the first 10 odd numbers in reverse order using a while loop."
   ]
  },
  {
   "cell_type": "code",
   "execution_count": 4,
   "id": "023dcbfd",
   "metadata": {},
   "outputs": [
    {
     "name": "stdout",
     "output_type": "stream",
     "text": [
      "19\n",
      "17\n",
      "15\n",
      "13\n",
      "11\n",
      "9\n",
      "7\n",
      "5\n",
      "3\n",
      "1\n"
     ]
    }
   ],
   "source": [
    "i=19\n",
    "while i>=1:\n",
    "    print(i)\n",
    "    i-=2"
   ]
  },
  {
   "cell_type": "markdown",
   "id": "39f468ec",
   "metadata": {},
   "source": [
    "7. Write a program to print the squares of the first 10 natural numbers using a while loop."
   ]
  },
  {
   "cell_type": "code",
   "execution_count": 5,
   "id": "702dca5b",
   "metadata": {},
   "outputs": [
    {
     "name": "stdout",
     "output_type": "stream",
     "text": [
      "1\n",
      "4\n",
      "9\n",
      "16\n",
      "25\n",
      "36\n",
      "49\n",
      "64\n",
      "81\n",
      "100\n"
     ]
    }
   ],
   "source": [
    "i=1\n",
    "while i<=10:\n",
    "    print(i**2)\n",
    "    i+=1"
   ]
  },
  {
   "cell_type": "markdown",
   "id": "5164f79c",
   "metadata": {},
   "source": [
    "8. Write a program to print the cubes of the first 10 natural numbers using a while loop."
   ]
  },
  {
   "cell_type": "code",
   "execution_count": 6,
   "id": "fc6cc545",
   "metadata": {},
   "outputs": [
    {
     "name": "stdout",
     "output_type": "stream",
     "text": [
      "1\n",
      "8\n",
      "27\n",
      "64\n",
      "125\n",
      "216\n",
      "343\n",
      "512\n",
      "729\n",
      "1000\n"
     ]
    }
   ],
   "source": [
    "i=1\n",
    "while i<=10:\n",
    "    print(i**3)\n",
    "    i+=1"
   ]
  },
  {
   "cell_type": "markdown",
   "id": "d4b5f0c6",
   "metadata": {},
   "source": [
    "9. Write a program to print the multiplication table of a number entered by the user."
   ]
  },
  {
   "cell_type": "code",
   "execution_count": null,
   "id": "ee2feb59",
   "metadata": {},
   "outputs": [],
   "source": [
    "n=int(input(\"Enter a number: \"))\n",
    "i=1\n",
    "while i<=10:\n",
    "    print(n,'x',i,'=',n*i)\n",
    "    i+=1"
   ]
  },
  {
   "cell_type": "markdown",
   "id": "255bb3d1",
   "metadata": {},
   "source": [
    "10. Write a program to find the sum of the first 10 natural numbers using a while loop."
   ]
  },
  {
   "cell_type": "code",
   "execution_count": 7,
   "id": "a12c5133",
   "metadata": {},
   "outputs": [
    {
     "name": "stdout",
     "output_type": "stream",
     "text": [
      "55\n"
     ]
    }
   ],
   "source": [
    "i=1\n",
    "s=0\n",
    "while i<=10:\n",
    "    s+=i\n",
    "    i+=1\n",
    "print(s)"
   ]
  },
  {
   "cell_type": "markdown",
   "id": "ff37c74a",
   "metadata": {},
   "source": [
    "11. Write a program to find the sum of the first 10 even numbers using a while loop."
   ]
  },
  {
   "cell_type": "code",
   "execution_count": null,
   "id": "9c91e342",
   "metadata": {},
   "outputs": [],
   "source": [
    "i=2\n",
    "s=0\n",
    "while i<=20:\n",
    "    s+=i\n",
    "    i+=2\n",
    "print(s)"
   ]
  },
  {
   "cell_type": "markdown",
   "id": "079876dc",
   "metadata": {},
   "source": [
    "12. Write a program to find the sum of the first 10 odd numbers using a while loop."
   ]
  },
  {
   "cell_type": "code",
   "execution_count": null,
   "id": "aaffdf09",
   "metadata": {},
   "outputs": [],
   "source": [
    "i=1\n",
    "s=0\n",
    "while i<=19:\n",
    "    s+=i\n",
    "    i+=2\n",
    "print(s)"
   ]
  },
  {
   "cell_type": "markdown",
   "id": "69e18e24",
   "metadata": {},
   "source": [
    "13. Write a program to calculate the factorial of a number entered by the user."
   ]
  },
  {
   "cell_type": "code",
   "execution_count": null,
   "id": "e6fad5be",
   "metadata": {},
   "outputs": [],
   "source": [
    "n=int(input(\"Enter a number: \"))\n",
    "f=1\n",
    "i=1\n",
    "while i<=n:\n",
    "    f*=i\n",
    "    i+=1\n",
    "print(f)"
   ]
  },
  {
   "cell_type": "markdown",
   "id": "2e106ffe",
   "metadata": {},
   "source": [
    "14. Write a program to reverse a number entered by the user."
   ]
  },
  {
   "cell_type": "code",
   "execution_count": null,
   "id": "06df9f00",
   "metadata": {},
   "outputs": [],
   "source": [
    "n=int(input(\"Enter a number: \"))\n",
    "r=0\n",
    "while n>0:\n",
    "    d=n%10\n",
    "    r=r*10+d\n",
    "    n//=10\n",
    "print(r)"
   ]
  },
  {
   "cell_type": "markdown",
   "id": "331f5eb4",
   "metadata": {},
   "source": [
    "15. Write a program to check whether a number is palindrome or not."
   ]
  },
  {
   "cell_type": "code",
   "execution_count": 8,
   "id": "664188e3",
   "metadata": {},
   "outputs": [
    {
     "name": "stdin",
     "output_type": "stream",
     "text": [
      "Enter a number:  22\n"
     ]
    },
    {
     "name": "stdout",
     "output_type": "stream",
     "text": [
      "Palindrome\n"
     ]
    }
   ],
   "source": [
    "n=int(input(\"Enter a number: \"))\n",
    "t=n\n",
    "r=0\n",
    "while n>0:\n",
    "    d=n%10\n",
    "    r=r*10+d\n",
    "    n//=10\n",
    "if t==r:\n",
    "    print(\"Palindrome\")\n",
    "else:\n",
    "    print(\"Not Palindrome\")"
   ]
  }
 ],
 "metadata": {
  "kernelspec": {
   "display_name": "Python 3 (ipykernel)",
   "language": "python",
   "name": "python3"
  },
  "language_info": {
   "codemirror_mode": {
    "name": "ipython",
    "version": 3
   },
   "file_extension": ".py",
   "mimetype": "text/x-python",
   "name": "python",
   "nbconvert_exporter": "python",
   "pygments_lexer": "ipython3",
   "version": "3.13.5"
  }
 },
 "nbformat": 4,
 "nbformat_minor": 5
}
