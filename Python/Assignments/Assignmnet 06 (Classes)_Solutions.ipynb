{
  "cells": [
    {
      "cell_type": "markdown",
      "metadata": {
        "id": "XLFr4w_7OFN7"
      },
      "source": [
        "1. Write a Python program to create a class representing a Circle. Include methods to calculate its area and perimeter."
      ]
    },
    {
      "cell_type": "code",
      "execution_count": 1,
      "metadata": {},
      "outputs": [
        {
          "name": "stdout",
          "output_type": "stream",
          "text": [
            "Area: 15\n",
            "Perimeter: 16\n"
          ]
        }
      ],
      "source": [
        "class Rectangle:\n",
        "    def __init__(self, length, width):\n",
        "        self.length = length\n",
        "        self.width = width\n",
        "\n",
        "    def area(self):\n",
        "        return self.length * self.width\n",
        "\n",
        "    def perimeter(self):\n",
        "        return 2 * (self.length + self.width)\n",
        "\n",
        "rect = Rectangle(5, 3)\n",
        "print(\"Area:\", rect.area())\n",
        "print(\"Perimeter:\", rect.perimeter())"
      ]
    },
    {
      "cell_type": "markdown",
      "metadata": {
        "id": "CBPk4mH4OTCO"
      },
      "source": [
        "2. Write a Python program to create a person class. Include attributes like name, country and date of birth. Implement a method to determine the person's age.\n"
      ]
    },
    {
      "cell_type": "code",
      "execution_count": 2,
      "metadata": {},
      "outputs": [
        {
          "name": "stdout",
          "output_type": "stream",
          "text": [
            "Name: Muhammad Atiq Ur Rehman\n",
            "Country: Pakistan\n",
            "Year of Birth: 2002\n",
            "Age: 23\n"
          ]
        }
      ],
      "source": [
        "from datetime import date\n",
        "\n",
        "class Person:\n",
        "    def __init__(self, name, country, birth_year):\n",
        "        self.name = name\n",
        "        self.country = country\n",
        "        self.birth_year = birth_year\n",
        "\n",
        "    def calculate_age(self):\n",
        "        current_year = date.today().year\n",
        "        age = current_year - self.birth_year\n",
        "        return age\n",
        "\n",
        "# Example usage\n",
        "person1 = Person(\"Muhammad Atiq Ur Rehman\", \"Pakistan\", 2002)\n",
        "print(\"Name:\", person1.name)\n",
        "print(\"Country:\", person1.country)\n",
        "print(\"Year of Birth:\", person1.birth_year)\n",
        "print(\"Age:\", person1.calculate_age())\n"
      ]
    },
    {
      "cell_type": "markdown",
      "metadata": {},
      "source": [
        "3. Write a Python program to create a calculator class. Include methods for basic arithmetic operations."
      ]
    },
    {
      "cell_type": "code",
      "execution_count": 3,
      "metadata": {},
      "outputs": [
        {
          "name": "stdout",
          "output_type": "stream",
          "text": [
            "Addition: 15\n",
            "Subtraction: 5\n",
            "Multiplication: 50\n",
            "Division: 2.0\n"
          ]
        }
      ],
      "source": [
        "class Calculator:\n",
        "    def add(self, a, b):\n",
        "        return a + b\n",
        "\n",
        "    def subtract(self, a, b):\n",
        "        return a - b\n",
        "\n",
        "    def multiply(self, a, b):\n",
        "        return a * b\n",
        "\n",
        "    def divide(self, a, b):\n",
        "        if b == 0:\n",
        "            return \"Error! Division by zero.\"\n",
        "        return a / b\n",
        "\n",
        "\n",
        "# Example usage\n",
        "calc = Calculator()\n",
        "\n",
        "print(\"Addition:\", calc.add(10, 5))\n",
        "print(\"Subtraction:\", calc.subtract(10, 5))\n",
        "print(\"Multiplication:\", calc.multiply(10, 5))\n",
        "print(\"Division:\", calc.divide(10, 5))\n"
      ]
    }
  ],
  "metadata": {
    "colab": {
      "provenance": []
    },
    "kernelspec": {
      "display_name": "Python 3",
      "name": "python3"
    },
    "language_info": {
      "codemirror_mode": {
        "name": "ipython",
        "version": 3
      },
      "file_extension": ".py",
      "mimetype": "text/x-python",
      "name": "python",
      "nbconvert_exporter": "python",
      "pygments_lexer": "ipython3",
      "version": "3.12.3"
    }
  },
  "nbformat": 4,
  "nbformat_minor": 0
}
